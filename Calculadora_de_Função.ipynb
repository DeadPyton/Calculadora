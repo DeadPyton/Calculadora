{
  "nbformat": 4,
  "nbformat_minor": 0,
  "metadata": {
    "colab": {
      "provenance": [],
      "authorship_tag": "ABX9TyNU6zsZGjsCAIJhwq0vmMZ9",
      "include_colab_link": true
    },
    "kernelspec": {
      "name": "python3",
      "display_name": "Python 3"
    },
    "language_info": {
      "name": "python"
    }
  },
  "cells": [
    {
      "cell_type": "markdown",
      "metadata": {
        "id": "view-in-github",
        "colab_type": "text"
      },
      "source": [
        "<a href=\"https://colab.research.google.com/github/DeadPyton/Calculadora/blob/main/Calculadora_de_Fun%C3%A7%C3%A3o.ipynb\" target=\"_parent\"><img src=\"https://colab.research.google.com/assets/colab-badge.svg\" alt=\"Open In Colab\"/></a>"
      ]
    },
    {
      "cell_type": "code",
      "source": [
        "!pip install matplotlib\n",
        "\n",
        "import matplotlib.pyplot as plt"
      ],
      "metadata": {
        "id": "evNpWR1VP68f"
      },
      "execution_count": null,
      "outputs": []
    },
    {
      "cell_type": "code",
      "source": [
        "print(\"SALVE, bem vindo a mais nova ultra blaster master calculadora de Função do 2° grau\")\n",
        "\n",
        "valor_a = float(input(\"Qual o valor de a? \"))\n",
        "valor_b = float(input(\"Qual o valor de b? \"))\n",
        "valor_c = float(input(\"Qual o valor de c? \"))\n",
        "\n",
        "print(valor_a,\"X²\", end=\" \")\n",
        "\n",
        "if valor_b >= 0:\n",
        "  print(\"+\", valor_b, \"X\", end=\" \")\n",
        "else:\n",
        "  print(valor_b, \"X\", end=\" \")\n",
        "\n",
        "if valor_c >= 0:\n",
        "  print(\"+\", valor_c)\n",
        "else:\n",
        "    print(valor_c)"
      ],
      "metadata": {
        "id": "dMYuF3ZqF1Hr"
      },
      "execution_count": null,
      "outputs": []
    },
    {
      "cell_type": "code",
      "source": [
        "Delta = float(valor_b**2 - (4*valor_a*valor_c))\n",
        "\n",
        "print(Delta)"
      ],
      "metadata": {
        "id": "MLP1DQuqHSxa"
      },
      "execution_count": null,
      "outputs": []
    },
    {
      "cell_type": "code",
      "source": [
        "Valor_x1 = float(-valor_b + Delta**0.5) / (2*valor_a)\n",
        "Valor_x2 = float(-valor_b - Delta**0.5) / (2*valor_a)\n",
        "\n",
        "print(Valor_x1)\n",
        "print(Valor_x2)"
      ],
      "metadata": {
        "id": "T0qQbOEYOnIb"
      },
      "execution_count": null,
      "outputs": []
    },
    {
      "cell_type": "code",
      "source": [
        "lista_x = list(range(-100,101))\n",
        "lista_x = [numero / 10 for numero in lista_x]\n",
        "\n",
        "print(lista_x)"
      ],
      "metadata": {
        "id": "lyekTRSkT1s4"
      },
      "execution_count": null,
      "outputs": []
    },
    {
      "cell_type": "code",
      "source": [
        "lista_y = [((X**2*valor_a) + (X*valor_b) + (valor_c)) for X in lista_x]\n",
        "\n",
        "print(lista_y)"
      ],
      "metadata": {
        "id": "Q_MlMGzPW_05"
      },
      "execution_count": null,
      "outputs": []
    },
    {
      "cell_type": "code",
      "source": [
        "plt.plot(lista_x, lista_y)\n",
        "plt.plot(Valor_x1, 0, marker = 'o', color='red')\n",
        "plt.plot(Valor_x2, 0, marker = 'o', color='red')\n",
        "plt.title(\"Gráfico da Função de 2º Grau\")\n",
        "plt.grid()\n",
        "plt.show"
      ],
      "metadata": {
        "id": "3MxCYEcpXfQ6"
      },
      "execution_count": null,
      "outputs": []
    }
  ]
}