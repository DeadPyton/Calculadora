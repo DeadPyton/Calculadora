{
  "nbformat": 4,
  "nbformat_minor": 0,
  "metadata": {
    "colab": {
      "provenance": [],
      "authorship_tag": "ABX9TyNU6zsZGjsCAIJhwq0vmMZ9",
      "include_colab_link": true
    },
    "kernelspec": {
      "name": "python3",
      "display_name": "Python 3"
    },
    "language_info": {
      "name": "python"
    }
  },
  "cells": [
    {
      "cell_type": "markdown",
      "metadata": {
        "id": "view-in-github",
        "colab_type": "text"
      },
      "source": [
        "<a href=\"https://colab.research.google.com/github/DeadPyton/Calculadora/blob/main/Calculadora_de_Fun%C3%A7%C3%A3o.ipynb\" target=\"_parent\"><img src=\"https://colab.research.google.com/assets/colab-badge.svg\" alt=\"Open In Colab\"/></a>"
      ]
    },
    {
      "cell_type": "code",
      "source": [
        "!pip install matplotlib\n",
        "\n",
        "import matplotlib.pyplot as plt"
      ],
      "metadata": {
        "id": "evNpWR1VP68f",
        "colab": {
          "base_uri": "https://localhost:8080/"
        },
        "outputId": "b8685af1-9e46-459c-f4af-90185d67e92d"
      },
      "execution_count": null,
      "outputs": [
        {
          "output_type": "stream",
          "name": "stdout",
          "text": [
            "Requirement already satisfied: matplotlib in /usr/local/lib/python3.11/dist-packages (3.10.0)\n",
            "Requirement already satisfied: contourpy>=1.0.1 in /usr/local/lib/python3.11/dist-packages (from matplotlib) (1.3.1)\n",
            "Requirement already satisfied: cycler>=0.10 in /usr/local/lib/python3.11/dist-packages (from matplotlib) (0.12.1)\n",
            "Requirement already satisfied: fonttools>=4.22.0 in /usr/local/lib/python3.11/dist-packages (from matplotlib) (4.55.3)\n",
            "Requirement already satisfied: kiwisolver>=1.3.1 in /usr/local/lib/python3.11/dist-packages (from matplotlib) (1.4.8)\n",
            "Requirement already satisfied: numpy>=1.23 in /usr/local/lib/python3.11/dist-packages (from matplotlib) (1.26.4)\n",
            "Requirement already satisfied: packaging>=20.0 in /usr/local/lib/python3.11/dist-packages (from matplotlib) (24.2)\n",
            "Requirement already satisfied: pillow>=8 in /usr/local/lib/python3.11/dist-packages (from matplotlib) (11.1.0)\n",
            "Requirement already satisfied: pyparsing>=2.3.1 in /usr/local/lib/python3.11/dist-packages (from matplotlib) (3.2.1)\n",
            "Requirement already satisfied: python-dateutil>=2.7 in /usr/local/lib/python3.11/dist-packages (from matplotlib) (2.8.2)\n",
            "Requirement already satisfied: six>=1.5 in /usr/local/lib/python3.11/dist-packages (from python-dateutil>=2.7->matplotlib) (1.17.0)\n"
          ]
        }
      ]
    },
    {
      "cell_type": "code",
      "source": [
        "print(\"SALVE, bem vindo a mais nova ultra blaster master calculadora de Função do 2° grau\")\n",
        "\n",
        "valor_a = float(input(\"Qual o valor de a? \"))\n",
        "valor_b = float(input(\"Qual o valor de b? \"))\n",
        "valor_c = float(input(\"Qual o valor de c? \"))\n",
        "\n",
        "print(valor_a,\"X²\", end=\" \")\n",
        "\n",
        "if valor_b >= 0:\n",
        "  print(\"+\", valor_b, \"X\", end=\" \")\n",
        "else:\n",
        "  print(valor_b, \"X\", end=\" \")\n",
        "\n",
        "if valor_c >= 0:\n",
        "  print(\"+\", valor_c)\n",
        "else:\n",
        "    print(valor_c)"
      ],
      "metadata": {
        "id": "dMYuF3ZqF1Hr",
        "colab": {
          "base_uri": "https://localhost:8080/"
        },
        "outputId": "39517439-e75f-48fd-9968-b63545c30a71"
      },
      "execution_count": null,
      "outputs": [
        {
          "output_type": "stream",
          "name": "stdout",
          "text": [
            "SALVE, bem vindo a mais nova ultra blaster master calculadora de Função do 2° grau\n",
            "Qual o valor de a? 1\n",
            "Qual o valor de b? 2\n",
            "Qual o valor de c? -15\n",
            "1.0 X² + 2.0 X -15.0\n"
          ]
        }
      ]
    },
    {
      "cell_type": "code",
      "source": [
        "Delta = float(valor_b**2 - (4*valor_a*valor_c))\n",
        "\n",
        "print(Delta)"
      ],
      "metadata": {
        "id": "MLP1DQuqHSxa",
        "colab": {
          "base_uri": "https://localhost:8080/"
        },
        "outputId": "71c16c49-8133-4c19-afe1-f027a8cd85fe"
      },
      "execution_count": null,
      "outputs": [
        {
          "output_type": "stream",
          "name": "stdout",
          "text": [
            "64.0\n"
          ]
        }
      ]
    },
    {
      "cell_type": "code",
      "source": [
        "Valor_x1 = float(-valor_b + Delta**0.5) / (2*valor_a)\n",
        "Valor_x2 = float(-valor_b - Delta**0.5) / (2*valor_a)\n",
        "\n",
        "print(Valor_x1)\n",
        "print(Valor_x2)"
      ],
      "metadata": {
        "id": "T0qQbOEYOnIb",
        "colab": {
          "base_uri": "https://localhost:8080/"
        },
        "outputId": "2659fb47-6840-48ac-ff83-9bb05a7239e4"
      },
      "execution_count": null,
      "outputs": [
        {
          "output_type": "stream",
          "name": "stdout",
          "text": [
            "3.0\n",
            "-5.0\n"
          ]
        }
      ]
    },
    {
      "cell_type": "code",
      "source": [
        "lista_x = list(range(-100,101))\n",
        "lista_x = [numero / 10 for numero in lista_x]\n",
        "\n",
        "print(lista_x)"
      ],
      "metadata": {
        "id": "lyekTRSkT1s4",
        "colab": {
          "base_uri": "https://localhost:8080/"
        },
        "outputId": "7f3274a6-51f5-4082-a1f1-d1671a4bc64f"
      },
      "execution_count": null,
      "outputs": [
        {
          "output_type": "stream",
          "name": "stdout",
          "text": [
            "[-10.0, -9.9, -9.8, -9.7, -9.6, -9.5, -9.4, -9.3, -9.2, -9.1, -9.0, -8.9, -8.8, -8.7, -8.6, -8.5, -8.4, -8.3, -8.2, -8.1, -8.0, -7.9, -7.8, -7.7, -7.6, -7.5, -7.4, -7.3, -7.2, -7.1, -7.0, -6.9, -6.8, -6.7, -6.6, -6.5, -6.4, -6.3, -6.2, -6.1, -6.0, -5.9, -5.8, -5.7, -5.6, -5.5, -5.4, -5.3, -5.2, -5.1, -5.0, -4.9, -4.8, -4.7, -4.6, -4.5, -4.4, -4.3, -4.2, -4.1, -4.0, -3.9, -3.8, -3.7, -3.6, -3.5, -3.4, -3.3, -3.2, -3.1, -3.0, -2.9, -2.8, -2.7, -2.6, -2.5, -2.4, -2.3, -2.2, -2.1, -2.0, -1.9, -1.8, -1.7, -1.6, -1.5, -1.4, -1.3, -1.2, -1.1, -1.0, -0.9, -0.8, -0.7, -0.6, -0.5, -0.4, -0.3, -0.2, -0.1, 0.0, 0.1, 0.2, 0.3, 0.4, 0.5, 0.6, 0.7, 0.8, 0.9, 1.0, 1.1, 1.2, 1.3, 1.4, 1.5, 1.6, 1.7, 1.8, 1.9, 2.0, 2.1, 2.2, 2.3, 2.4, 2.5, 2.6, 2.7, 2.8, 2.9, 3.0, 3.1, 3.2, 3.3, 3.4, 3.5, 3.6, 3.7, 3.8, 3.9, 4.0, 4.1, 4.2, 4.3, 4.4, 4.5, 4.6, 4.7, 4.8, 4.9, 5.0, 5.1, 5.2, 5.3, 5.4, 5.5, 5.6, 5.7, 5.8, 5.9, 6.0, 6.1, 6.2, 6.3, 6.4, 6.5, 6.6, 6.7, 6.8, 6.9, 7.0, 7.1, 7.2, 7.3, 7.4, 7.5, 7.6, 7.7, 7.8, 7.9, 8.0, 8.1, 8.2, 8.3, 8.4, 8.5, 8.6, 8.7, 8.8, 8.9, 9.0, 9.1, 9.2, 9.3, 9.4, 9.5, 9.6, 9.7, 9.8, 9.9, 10.0]\n"
          ]
        }
      ]
    },
    {
      "cell_type": "code",
      "source": [
        "lista_y = [((X**2*valor_a) + (X*valor_b) + (valor_c)) for X in lista_x]\n",
        "\n",
        "print(lista_y)"
      ],
      "metadata": {
        "id": "Q_MlMGzPW_05",
        "colab": {
          "base_uri": "https://localhost:8080/"
        },
        "outputId": "1f62db84-1f44-4878-aa5a-e2e9810e0960"
      },
      "execution_count": null,
      "outputs": [
        {
          "output_type": "stream",
          "name": "stdout",
          "text": [
            "[65.0, 63.21000000000001, 61.440000000000026, 59.69, 57.959999999999994, 56.25, 54.56000000000002, 52.890000000000015, 51.23999999999998, 49.609999999999985, 48.0, 46.41000000000001, 44.84000000000001, 43.289999999999985, 41.75999999999999, 40.25, 38.760000000000005, 37.29000000000001, 35.839999999999996, 34.41, 33.0, 31.61, 30.239999999999995, 28.890000000000008, 27.560000000000002, 26.25, 24.960000000000008, 23.689999999999998, 22.440000000000005, 21.209999999999994, 20.0, 18.810000000000002, 17.639999999999993, 16.490000000000002, 15.359999999999996, 14.25, 13.160000000000007, 12.089999999999996, 11.040000000000006, 10.009999999999994, 9.0, 8.010000000000002, 7.039999999999999, 6.090000000000003, 5.159999999999997, 4.25, 3.360000000000003, 2.490000000000002, 1.6400000000000006, 0.8099999999999987, 0.0, -0.7899999999999956, -1.5600000000000005, -2.309999999999997, -3.0400000000000027, -3.75, -4.439999999999998, -5.110000000000001, -5.76, -6.390000000000001, -7.0, -7.590000000000001, -8.16, -8.709999999999999, -9.239999999999998, -9.75, -10.240000000000002, -10.71, -11.159999999999998, -11.59, -12.0, -12.39, -12.760000000000002, -13.11, -13.44, -13.75, -14.04, -14.31, -14.559999999999999, -14.79, -15.0, -15.19, -15.36, -15.51, -15.64, -15.75, -15.84, -15.91, -15.96, -15.99, -16.0, -15.99, -15.96, -15.91, -15.84, -15.75, -15.64, -15.51, -15.36, -15.19, -15.0, -14.79, -14.56, -14.31, -14.04, -13.75, -13.44, -13.11, -12.76, -12.39, -12.0, -11.59, -11.16, -10.71, -10.24, -9.75, -9.239999999999998, -8.71, -8.16, -7.59, -7.0, -6.390000000000001, -5.759999999999998, -5.110000000000001, -4.440000000000001, -3.75, -3.039999999999999, -2.3099999999999987, -1.5600000000000023, -0.7899999999999991, 0.0, 0.8100000000000023, 1.6400000000000006, 2.4899999999999984, 3.3599999999999994, 4.25, 5.16, 6.090000000000003, 7.039999999999999, 8.009999999999998, 9.0, 10.009999999999998, 11.04, 12.089999999999996, 13.160000000000004, 14.25, 15.359999999999996, 16.490000000000002, 17.64, 18.810000000000002, 20.0, 21.209999999999994, 22.440000000000005, 23.689999999999998, 24.960000000000008, 26.25, 27.559999999999995, 28.89, 30.240000000000002, 31.61, 33.0, 34.41, 35.84, 37.29, 38.760000000000005, 40.25, 41.75999999999999, 43.29, 44.839999999999996, 46.41000000000001, 48.0, 49.61, 51.24000000000001, 52.89, 54.56, 56.25, 57.959999999999994, 59.69000000000001, 61.44, 63.21000000000001, 65.0, 66.81, 68.63999999999999, 70.49000000000001, 72.36, 74.25, 76.16, 78.08999999999997, 80.04000000000002, 82.01, 84.0, 86.00999999999999, 88.03999999999999, 90.09, 92.16000000000001, 94.25, 96.36, 98.48999999999998, 100.64000000000001, 102.81, 105.0]\n"
          ]
        }
      ]
    },
    {
      "cell_type": "code",
      "source": [
        "plt.plot(lista_x, lista_y)\n",
        "plt.plot(Valor_x1, 0, marker = 'o', color='red')\n",
        "plt.plot(Valor_x2, 0, marker = 'o', color='red')\n",
        "plt.title(\"Gráfico da Função de 2º Grau\")\n",
        "plt.grid()\n",
        "plt.show"
      ],
      "metadata": {
        "id": "3MxCYEcpXfQ6",
        "colab": {
          "base_uri": "https://localhost:8080/",
          "height": 623
        },
        "outputId": "986c4f99-0a33-46c3-f620-750abdc46029"
      },
      "execution_count": null,
      "outputs": [
        {
          "output_type": "execute_result",
          "data": {
            "text/plain": [
              "<function matplotlib.pyplot.show(close=None, block=None)>"
            ],
            "text/html": [
              "<div style=\"max-width:800px; border: 1px solid var(--colab-border-color);\"><style>\n",
              "      pre.function-repr-contents {\n",
              "        overflow-x: auto;\n",
              "        padding: 8px 12px;\n",
              "        max-height: 500px;\n",
              "      }\n",
              "\n",
              "      pre.function-repr-contents.function-repr-contents-collapsed {\n",
              "        cursor: pointer;\n",
              "        max-height: 100px;\n",
              "      }\n",
              "    </style>\n",
              "    <pre style=\"white-space: initial; background:\n",
              "         var(--colab-secondary-surface-color); padding: 8px 12px;\n",
              "         border-bottom: 1px solid var(--colab-border-color);\"><b>matplotlib.pyplot.show</b><br/>def show(*args, **kwargs) -&gt; None</pre><pre class=\"function-repr-contents function-repr-contents-collapsed\" style=\"\"><a class=\"filepath\" style=\"display:none\" href=\"#\">/usr/local/lib/python3.11/dist-packages/matplotlib/pyplot.py</a>Display all open figures.\n",
              "\n",
              "Parameters\n",
              "----------\n",
              "block : bool, optional\n",
              "    Whether to wait for all figures to be closed before returning.\n",
              "\n",
              "    If `True` block and run the GUI main loop until all figure windows\n",
              "    are closed.\n",
              "\n",
              "    If `False` ensure that all figure windows are displayed and return\n",
              "    immediately.  In this case, you are responsible for ensuring\n",
              "    that the event loop is running to have responsive figures.\n",
              "\n",
              "    Defaults to True in non-interactive mode and to False in interactive\n",
              "    mode (see `.pyplot.isinteractive`).\n",
              "\n",
              "See Also\n",
              "--------\n",
              "ion : Enable interactive mode, which shows / updates the figure after\n",
              "      every plotting command, so that calling ``show()`` is not necessary.\n",
              "ioff : Disable interactive mode.\n",
              "savefig : Save the figure to an image file instead of showing it on screen.\n",
              "\n",
              "Notes\n",
              "-----\n",
              "**Saving figures to file and showing a window at the same time**\n",
              "\n",
              "If you want an image file as well as a user interface window, use\n",
              "`.pyplot.savefig` before `.pyplot.show`. At the end of (a blocking)\n",
              "``show()`` the figure is closed and thus unregistered from pyplot. Calling\n",
              "`.pyplot.savefig` afterwards would save a new and thus empty figure. This\n",
              "limitation of command order does not apply if the show is non-blocking or\n",
              "if you keep a reference to the figure and use `.Figure.savefig`.\n",
              "\n",
              "**Auto-show in jupyter notebooks**\n",
              "\n",
              "The jupyter backends (activated via ``%matplotlib inline``,\n",
              "``%matplotlib notebook``, or ``%matplotlib widget``), call ``show()`` at\n",
              "the end of every cell by default. Thus, you usually don&#x27;t have to call it\n",
              "explicitly there.</pre>\n",
              "      <script>\n",
              "      if (google.colab.kernel.accessAllowed && google.colab.files && google.colab.files.view) {\n",
              "        for (const element of document.querySelectorAll('.filepath')) {\n",
              "          element.style.display = 'block'\n",
              "          element.onclick = (event) => {\n",
              "            event.preventDefault();\n",
              "            event.stopPropagation();\n",
              "            google.colab.files.view(element.textContent, 569);\n",
              "          };\n",
              "        }\n",
              "      }\n",
              "      for (const element of document.querySelectorAll('.function-repr-contents')) {\n",
              "        element.onclick = (event) => {\n",
              "          event.preventDefault();\n",
              "          event.stopPropagation();\n",
              "          element.classList.toggle('function-repr-contents-collapsed');\n",
              "        };\n",
              "      }\n",
              "      </script>\n",
              "      </div>"
            ]
          },
          "metadata": {},
          "execution_count": 7
        },
        {
          "output_type": "display_data",
          "data": {
            "text/plain": [
              "<Figure size 640x480 with 1 Axes>"
            ],
            "image/png": "[encoded data removed]"
          },
          "metadata": {}
        }
      ]
    }
  ]
}